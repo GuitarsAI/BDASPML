{
  "nbformat": 4,
  "nbformat_minor": 0,
  "metadata": {
    "colab": {
      "name": "bdaspml_02_codeExample01.ipynb",
      "provenance": [],
      "collapsed_sections": []
    },
    "kernelspec": {
      "name": "python3",
      "display_name": "Python 3"
    },
    "language_info": {
      "name": "python"
    }
  },
  "cells": [
    {
      "cell_type": "markdown",
      "source": [
        "# Basics of Digital Audio Signal Processing and Machine Learning for Audio using Python\n",
        "Renato Profeta\n"
      ],
      "metadata": {
        "id": "jXxtcua_PCi2"
      }
    },
    {
      "cell_type": "markdown",
      "source": [
        "## Code Example 01: Playback of a Wavefile (.wav) using Python"
      ],
      "metadata": {
        "id": "43p88-8vPNHV"
      }
    },
    {
      "cell_type": "code",
      "execution_count": 7,
      "metadata": {
        "colab": {
          "base_uri": "https://localhost:8080/",
          "height": 336
        },
        "cellView": "form",
        "id": "S41Mp4GkO6wH",
        "outputId": "47f279cf-2411-43b2-b356-db9885ac5db7"
      },
      "outputs": [
        {
          "output_type": "display_data",
          "data": {
            "text/html": [
              "<iframe width=\"560\" height=\"315\" src=\"https://www.youtube.com/embed/s-Y4N8WjYDc\" title=\"YouTube video player\" frameborder=\"0\" allow=\"accelerometer; autoplay; clipboard-write; encrypted-media; gyroscope; picture-in-picture\" allowfullscreen></iframe>"
            ],
            "text/plain": [
              "<IPython.core.display.HTML object>"
            ]
          },
          "metadata": {}
        }
      ],
      "source": [
        "#@title\n",
        "%%html\n",
        "<iframe width=\"560\" height=\"315\" src=\"https://www.youtube.com/embed/s-Y4N8WjYDc\" title=\"YouTube video player\" frameborder=\"0\" allow=\"accelerometer; autoplay; clipboard-write; encrypted-media; gyroscope; picture-in-picture\" allowfullscreen></iframe>"
      ]
    }
  ]
}