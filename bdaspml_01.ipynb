{
  "nbformat": 4,
  "nbformat_minor": 0,
  "metadata": {
    "colab": {
      "name": "bdaspml_01.ipynb",
      "provenance": [],
      "collapsed_sections": []
    },
    "kernelspec": {
      "name": "python3",
      "display_name": "Python 3"
    },
    "language_info": {
      "name": "python"
    }
  },
  "cells": [
    {
      "cell_type": "markdown",
      "source": [
        "# Basics of Digital Audio Signal Processing and Machine Learning for Audio using Python\n",
        "Renato Profeta <br> [![Youtube](https://badgen.net/badge/Launch/on%20YouTube/red?icon=terminal)](https://youtu.be/rkQN6WVi8ak)"
      ],
      "metadata": {
        "id": "XgaRlQkgnEh2"
      }
    },
    {
      "cell_type": "code",
      "source": [
        "#@title\n",
        "%%html\n",
        "<iframe width=\"560\" height=\"315\" src=\"https://www.youtube.com/embed/zzEHTIJZMuc?rel=0\" title=\"YouTube video player\" frameborder=\"0\" allow=\"accelerometer; autoplay; clipboard-write; encrypted-media; gyroscope; picture-in-picture\" allowfullscreen></iframe>"
      ],
      "metadata": {
        "colab": {
          "base_uri": "https://localhost:8080/",
          "height": 337
        },
        "cellView": "form",
        "id": "hvr0CPNyXhaf",
        "outputId": "7ab51931-46b2-4b88-962f-30175f7357b2"
      },
      "execution_count": null,
      "outputs": [
        {
          "output_type": "display_data",
          "data": {
            "text/html": [
              "<iframe width=\"560\" height=\"315\" src=\"https://www.youtube.com/embed/zzEHTIJZMuc?rel=0\" title=\"YouTube video player\" frameborder=\"0\" allow=\"accelerometer; autoplay; clipboard-write; encrypted-media; gyroscope; picture-in-picture\" allowfullscreen></iframe>"
            ],
            "text/plain": [
              "<IPython.core.display.HTML object>"
            ]
          },
          "metadata": {}
        }
      ]
    },
    {
      "cell_type": "markdown",
      "source": [
        "#### Configuration"
      ],
      "metadata": {
        "id": "qw2dkCWlj6Kw"
      }
    },
    {
      "cell_type": "code",
      "source": [
        "# Download the wavefile\n",
        "!wget https://github.com/GuitarsAI/BDASPML/raw/main/audio/tone440_48k.wav"
      ],
      "metadata": {
        "colab": {
          "base_uri": "https://localhost:8080/"
        },
        "id": "PF5zikUWjMCA",
        "outputId": "a628adaf-5aff-49d4-c92f-c75ae53c584b"
      },
      "execution_count": null,
      "outputs": [
        {
          "output_type": "stream",
          "name": "stdout",
          "text": [
            "--2022-02-14 18:02:24--  https://github.com/GuitarsAI/BDASPML/raw/main/audio/tone440_48k.wav\n",
            "Resolving github.com (github.com)... 52.192.72.89\n",
            "Connecting to github.com (github.com)|52.192.72.89|:443... connected.\n",
            "HTTP request sent, awaiting response... 302 Found\n",
            "Location: https://raw.githubusercontent.com/GuitarsAI/BDASPML/main/audio/tone440_48k.wav [following]\n",
            "--2022-02-14 18:02:24--  https://raw.githubusercontent.com/GuitarsAI/BDASPML/main/audio/tone440_48k.wav\n",
            "Resolving raw.githubusercontent.com (raw.githubusercontent.com)... 185.199.108.133, 185.199.109.133, 185.199.110.133, ...\n",
            "Connecting to raw.githubusercontent.com (raw.githubusercontent.com)|185.199.108.133|:443... connected.\n",
            "HTTP request sent, awaiting response... 200 OK\n",
            "Length: 96044 (94K) [audio/wav]\n",
            "Saving to: ‘tone440_48k.wav’\n",
            "\n",
            "tone440_48k.wav     100%[===================>]  93.79K  --.-KB/s    in 0.02s   \n",
            "\n",
            "2022-02-14 18:02:25 (5.80 MB/s) - ‘tone440_48k.wav’ saved [96044/96044]\n",
            "\n"
          ]
        }
      ]
    },
    {
      "cell_type": "markdown",
      "metadata": {
        "id": "HSTDTAuv-xLV"
      },
      "source": [
        "## Code Example 01 - Load and Playback of a .wav File"
      ]
    },
    {
      "cell_type": "code",
      "source": [
        "#@title\n",
        "%%html\n",
        "<iframe width=\"560\" height=\"315\" src=\"https://www.youtube.com/embed/s-Y4N8WjYDc?rel=0\" title=\"YouTube video player\" frameborder=\"0\" allow=\"accelerometer; autoplay; clipboard-write; encrypted-media; gyroscope; picture-in-picture\" allowfullscreen></iframe>"
      ],
      "metadata": {
        "colab": {
          "base_uri": "https://localhost:8080/",
          "height": 337
        },
        "cellView": "form",
        "id": "YToKbSHWXzxo",
        "outputId": "4e39181e-a6b6-45fd-b5af-4dee2271051b"
      },
      "execution_count": null,
      "outputs": [
        {
          "output_type": "display_data",
          "data": {
            "text/html": [
              "<iframe width=\"560\" height=\"315\" src=\"https://www.youtube.com/embed/s-Y4N8WjYDc?rel=0\" title=\"YouTube video player\" frameborder=\"0\" allow=\"accelerometer; autoplay; clipboard-write; encrypted-media; gyroscope; picture-in-picture\" allowfullscreen></iframe>"
            ],
            "text/plain": [
              "<IPython.core.display.HTML object>"
            ]
          },
          "metadata": {}
        }
      ]
    },
    {
      "cell_type": "code",
      "metadata": {
        "id": "KGCsFYBC3F9c"
      },
      "source": [
        "import librosa as rosa"
      ],
      "execution_count": null,
      "outputs": []
    },
    {
      "cell_type": "code",
      "metadata": {
        "id": "zd5qk1y23GBU"
      },
      "source": [
        "audio_data, sample_rate = rosa.load(\"tone440_48k.wav\", sr=None)"
      ],
      "execution_count": null,
      "outputs": []
    },
    {
      "cell_type": "code",
      "metadata": {
        "colab": {
          "base_uri": "https://localhost:8080/"
        },
        "id": "uFmoCt076Ngw",
        "outputId": "b446fc5b-d095-4611-accb-8ae34a69e5c2"
      },
      "source": [
        "print(\"Audio data:\", audio_data)\n",
        "print(\"Sampling Rate:\", sample_rate)"
      ],
      "execution_count": null,
      "outputs": [
        {
          "output_type": "stream",
          "name": "stdout",
          "text": [
            "Audio data: [ 0.          0.05755615  0.1149292  ... -0.17193604 -0.11495972\n",
            " -0.05758667]\n",
            "Sampling Rate: 48000\n"
          ]
        }
      ]
    },
    {
      "cell_type": "code",
      "metadata": {
        "id": "4hOdKaR_3GEU"
      },
      "source": [
        "import IPython.display as ipd"
      ],
      "execution_count": null,
      "outputs": []
    },
    {
      "cell_type": "code",
      "metadata": {
        "colab": {
          "base_uri": "https://localhost:8080/",
          "height": 75
        },
        "id": "098jUjM63GHB",
        "outputId": "76768740-8708-4503-b7a4-5fc87f155e6b"
      },
      "source": [
        "ipd.Audio(audio_data, rate=sample_rate)\n"
      ],
      "execution_count": null,
      "outputs": [
        {
          "output_type": "execute_result",
          "data": {
            "text/html": [
              "\n",
              "                <audio controls=\"controls\" >\n",
              "                    <source src=\"data:audio/wav;base64,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\" type=\"audio/wav\" />\n",
              "                    Your browser does not support the audio element.\n",
              "                </audio>\n",
              "              "
            ],
            "text/plain": [
              "<IPython.lib.display.Audio object>"
            ]
          },
          "metadata": {},
          "execution_count": 6
        }
      ]
    },
    {
      "cell_type": "markdown",
      "metadata": {
        "id": "6Tbqe2Sy_YuE"
      },
      "source": [
        "## DSP Theory 01\n",
        "\n"
      ]
    },
    {
      "cell_type": "code",
      "source": [
        "#@title\n",
        "%%html\n",
        "<iframe width=\"560\" height=\"315\" src=\"https://www.youtube.com/embed/_KD3dPaQBZs?rel=0\" title=\"YouTube video player\" frameborder=\"0\" allow=\"accelerometer; autoplay; clipboard-write; encrypted-media; gyroscope; picture-in-picture\" allowfullscreen></iframe>"
      ],
      "metadata": {
        "colab": {
          "base_uri": "https://localhost:8080/",
          "height": 337
        },
        "cellView": "form",
        "id": "Ow5FvOBsYF-_",
        "outputId": "2585ffd0-5dde-4261-b825-2877b34bb679"
      },
      "execution_count": null,
      "outputs": [
        {
          "output_type": "display_data",
          "data": {
            "text/html": [
              "<iframe width=\"560\" height=\"315\" src=\"https://www.youtube.com/embed/_KD3dPaQBZs?rel=0\" title=\"YouTube video player\" frameborder=\"0\" allow=\"accelerometer; autoplay; clipboard-write; encrypted-media; gyroscope; picture-in-picture\" allowfullscreen></iframe>"
            ],
            "text/plain": [
              "<IPython.core.display.HTML object>"
            ]
          },
          "metadata": {}
        }
      ]
    },
    {
      "cell_type": "markdown",
      "metadata": {
        "id": "dJDZuiRRrivQ"
      },
      "source": [
        "### Sampling"
      ]
    },
    {
      "cell_type": "markdown",
      "metadata": {
        "id": "AIV8SsGyrztu"
      },
      "source": [
        "In short:     \n",
        "\n",
        "Sampling - Converting an Analog Signal into a Digital Signal."
      ]
    },
    {
      "cell_type": "code",
      "metadata": {
        "id": "56zhS-jR7_Vf",
        "cellView": "form",
        "colab": {
          "base_uri": "https://localhost:8080/",
          "height": 645
        },
        "outputId": "da588839-82f6-4508-d93c-777a1c1b9632"
      },
      "source": [
        "#@title\n",
        "%%html\n",
        "<iframe src=\"https://en.wikipedia.org/wiki/Sampling_(signal_processing)\" height=\"600\" width=\"900\" title=\"Sampling (Wikipedia)\"></iframe>"
      ],
      "execution_count": null,
      "outputs": [
        {
          "output_type": "display_data",
          "data": {
            "text/html": [
              "<iframe src=\"https://en.wikipedia.org/wiki/Sampling_(signal_processing)\" height=\"600\" width=\"900\" title=\"Sampling (Wikipedia)\"></iframe>"
            ],
            "text/plain": [
              "<IPython.core.display.HTML object>"
            ]
          },
          "metadata": {}
        }
      ]
    },
    {
      "cell_type": "markdown",
      "metadata": {
        "id": "vSmIFvvm7ZSO"
      },
      "source": [
        "### Sampling Rate"
      ]
    },
    {
      "cell_type": "code",
      "source": [
        "#@title\n",
        "%%html\n",
        "<iframe width=\"560\" height=\"315\" src=\"https://www.youtube.com/embed/eSzAdBLzMjg?rel=0\" title=\"YouTube video player\" frameborder=\"0\" allow=\"accelerometer; autoplay; clipboard-write; encrypted-media; gyroscope; picture-in-picture\" allowfullscreen></iframe>"
      ],
      "metadata": {
        "colab": {
          "base_uri": "https://localhost:8080/",
          "height": 337
        },
        "cellView": "form",
        "id": "hH-w9PGZYU7A",
        "outputId": "8e5b8450-18d3-49fc-fd1f-3c1c1db79bfd"
      },
      "execution_count": null,
      "outputs": [
        {
          "output_type": "display_data",
          "data": {
            "text/html": [
              "<iframe width=\"560\" height=\"315\" src=\"https://www.youtube.com/embed/eSzAdBLzMjg?rel=0\" title=\"YouTube video player\" frameborder=\"0\" allow=\"accelerometer; autoplay; clipboard-write; encrypted-media; gyroscope; picture-in-picture\" allowfullscreen></iframe>"
            ],
            "text/plain": [
              "<IPython.core.display.HTML object>"
            ]
          },
          "metadata": {}
        }
      ]
    },
    {
      "cell_type": "markdown",
      "metadata": {
        "id": "ZQ7sgx5T9MO-"
      },
      "source": [
        "Sampling Frequency $\\mathbf{f_s}$: Number of samples in one second. <br>\n",
        "Unit: Hertz or samples per second."
      ]
    },
    {
      "cell_type": "markdown",
      "metadata": {
        "id": "6OJAvYaE98rh"
      },
      "source": [
        "Sampling Period $\\mathbf{T}$: Sampling interval, time or distance between which samples are taken. \n",
        "\n",
        "$$f_s = \\frac{1}{T} $$"
      ]
    },
    {
      "cell_type": "markdown",
      "metadata": {
        "id": "rHSfPRGKsRXK"
      },
      "source": [
        "### Bit Depth"
      ]
    },
    {
      "cell_type": "code",
      "source": [
        "#@title\n",
        "%%html\n",
        "<iframe width=\"560\" height=\"315\" src=\"https://www.youtube.com/embed/BPOJWAsEJLc?rel=0\" title=\"YouTube video player\" frameborder=\"0\" allow=\"accelerometer; autoplay; clipboard-write; encrypted-media; gyroscope; picture-in-picture\" allowfullscreen></iframe>"
      ],
      "metadata": {
        "colab": {
          "base_uri": "https://localhost:8080/",
          "height": 337
        },
        "cellView": "form",
        "id": "hkfI5HVzYdXH",
        "outputId": "bd63e5dd-d6a9-4f35-82da-8789426582e3"
      },
      "execution_count": null,
      "outputs": [
        {
          "output_type": "display_data",
          "data": {
            "text/html": [
              "<iframe width=\"560\" height=\"315\" src=\"https://www.youtube.com/embed/BPOJWAsEJLc?rel=0\" title=\"YouTube video player\" frameborder=\"0\" allow=\"accelerometer; autoplay; clipboard-write; encrypted-media; gyroscope; picture-in-picture\" allowfullscreen></iframe>"
            ],
            "text/plain": [
              "<IPython.core.display.HTML object>"
            ]
          },
          "metadata": {}
        }
      ]
    },
    {
      "cell_type": "code",
      "metadata": {
        "id": "JW0H6hkBtI8W",
        "cellView": "form",
        "colab": {
          "base_uri": "https://localhost:8080/"
        },
        "outputId": "9e05d3b0-959a-4e4c-8434-0e438b7b0797"
      },
      "source": [
        "#@title\n",
        "%%html\n",
        "<iframe src=\"https://en.wikipedia.org/wiki/Audio_bit_depth\" height=\"600\" width=\"900\" title=\"Bit Depth\"></iframe>\n"
      ],
      "execution_count": null,
      "outputs": [
        {
          "output_type": "display_data",
          "data": {
            "text/html": [
              "<iframe src=\"https://en.wikipedia.org/wiki/Audio_bit_depth\" height=\"600\" width=\"900\" title=\"Bit Depth\"></iframe>"
            ],
            "text/plain": [
              "<IPython.core.display.HTML object>"
            ]
          },
          "metadata": {}
        }
      ]
    },
    {
      "cell_type": "markdown",
      "metadata": {
        "id": "LseqGokj_1iZ"
      },
      "source": [
        "## Code Explanation 01"
      ]
    },
    {
      "cell_type": "code",
      "source": [
        "#@title\n",
        "%%html\n",
        "<iframe width=\"560\" height=\"315\" src=\"https://www.youtube.com/embed/nwABTyjCr9Q?rel=0\" title=\"YouTube video player\" frameborder=\"0\" allow=\"accelerometer; autoplay; clipboard-write; encrypted-media; gyroscope; picture-in-picture\" allowfullscreen></iframe>"
      ],
      "metadata": {
        "colab": {
          "base_uri": "https://localhost:8080/",
          "height": 337
        },
        "cellView": "form",
        "id": "-VpoNB0xZDiy",
        "outputId": "1a6fed59-80fa-4bf4-e918-280ad05cddbc"
      },
      "execution_count": null,
      "outputs": [
        {
          "output_type": "display_data",
          "data": {
            "text/html": [
              "<iframe width=\"560\" height=\"315\" src=\"https://www.youtube.com/embed/nwABTyjCr9Q?rel=0\" title=\"YouTube video player\" frameborder=\"0\" allow=\"accelerometer; autoplay; clipboard-write; encrypted-media; gyroscope; picture-in-picture\" allowfullscreen></iframe>"
            ],
            "text/plain": [
              "<IPython.core.display.HTML object>"
            ]
          },
          "metadata": {}
        }
      ]
    },
    {
      "cell_type": "markdown",
      "metadata": {
        "id": "QH2hYxaOD9QP"
      },
      "source": [
        "### Importing Modules and Packages"
      ]
    },
    {
      "cell_type": "code",
      "source": [
        "#@title\n",
        "%%html\n",
        "<iframe width=\"560\" height=\"315\" src=\"https://www.youtube.com/embed/54q06vhRCB4?rel=0\" title=\"YouTube video player\" frameborder=\"0\" allow=\"accelerometer; autoplay; clipboard-write; encrypted-media; gyroscope; picture-in-picture\" allowfullscreen></iframe>"
      ],
      "metadata": {
        "cellView": "form",
        "colab": {
          "base_uri": "https://localhost:8080/",
          "height": 337
        },
        "id": "k2T_fJc1ZVGh",
        "outputId": "993c763c-6f71-4681-91d1-195bec4b93e3"
      },
      "execution_count": null,
      "outputs": [
        {
          "output_type": "display_data",
          "data": {
            "text/html": [
              "<iframe width=\"560\" height=\"315\" src=\"https://www.youtube.com/embed/54q06vhRCB4?rel=0\" title=\"YouTube video player\" frameborder=\"0\" allow=\"accelerometer; autoplay; clipboard-write; encrypted-media; gyroscope; picture-in-picture\" allowfullscreen></iframe>"
            ],
            "text/plain": [
              "<IPython.core.display.HTML object>"
            ]
          },
          "metadata": {}
        }
      ]
    },
    {
      "cell_type": "markdown",
      "metadata": {
        "id": "bRgbrDVuA4QV"
      },
      "source": [
        "```python\n",
        "import librosa\n",
        "```"
      ]
    },
    {
      "cell_type": "markdown",
      "metadata": {
        "id": "xHu2iOmuNsuB"
      },
      "source": [
        "Keywords: reserved words in Python.\n",
        "\n",
        "Ex: \n",
        "```python\n",
        "False None True and as assert async await break class continue def del elif else except finally for from global if import in is lambda nonlocal not or  pass raise return try while with yield\n",
        "```"
      ]
    },
    {
      "cell_type": "markdown",
      "metadata": {
        "id": "-iI00D5OBNdw"
      },
      "source": [
        "In short:   \n",
        "\n",
        "*   Module: one python file '.py'\n",
        "*   Package: a collection of moudules.\n",
        "\n"
      ]
    },
    {
      "cell_type": "code",
      "metadata": {
        "id": "7ba5tVqhAPpA",
        "cellView": "form",
        "colab": {
          "base_uri": "https://localhost:8080/",
          "height": 645
        },
        "outputId": "39716630-1368-425e-bb9e-61b19e66ca20"
      },
      "source": [
        "#@title\n",
        "%%html\n",
        "<iframe src=\"https://librosa.org/doc/latest/index.html\" height=\"600\" width=\"900\" title=\"Librosa\"></iframe>"
      ],
      "execution_count": null,
      "outputs": [
        {
          "output_type": "display_data",
          "data": {
            "text/html": [
              "<iframe src=\"https://librosa.org/doc/latest/index.html\" height=\"600\" width=\"900\" title=\"Librosa\"></iframe>"
            ],
            "text/plain": [
              "<IPython.core.display.HTML object>"
            ]
          },
          "metadata": {}
        }
      ]
    },
    {
      "cell_type": "code",
      "source": [
        "#@title\n",
        "%%html\n",
        "<iframe width=\"560\" height=\"315\" src=\"https://www.youtube.com/embed/-3i5n_r03C0?rel=0\" title=\"YouTube video player\" frameborder=\"0\" allow=\"accelerometer; autoplay; clipboard-write; encrypted-media; gyroscope; picture-in-picture\" allowfullscreen></iframe>"
      ],
      "metadata": {
        "colab": {
          "base_uri": "https://localhost:8080/",
          "height": 337
        },
        "cellView": "form",
        "id": "Y4HYXJr_Zo4P",
        "outputId": "6b500fd9-d7d6-46e7-8b42-0a67db0a8c20"
      },
      "execution_count": null,
      "outputs": [
        {
          "output_type": "display_data",
          "data": {
            "text/html": [
              "<iframe width=\"560\" height=\"315\" src=\"https://www.youtube.com/embed/-3i5n_r03C0?rel=0\" title=\"YouTube video player\" frameborder=\"0\" allow=\"accelerometer; autoplay; clipboard-write; encrypted-media; gyroscope; picture-in-picture\" allowfullscreen></iframe>"
            ],
            "text/plain": [
              "<IPython.core.display.HTML object>"
            ]
          },
          "metadata": {}
        }
      ]
    },
    {
      "cell_type": "code",
      "metadata": {
        "id": "lEUAkmwbAQfJ",
        "cellView": "form",
        "colab": {
          "base_uri": "https://localhost:8080/",
          "height": 645
        },
        "outputId": "93d8b225-b387-4871-9746-55eb23fb0f2a"
      },
      "source": [
        "#@title\n",
        "%%html\n",
        "<iframe src=\"https://docs.python.org/3/tutorial/modules.html\" height=\"600\" width=\"900\" title=\"Librosa\"></iframe>\n"
      ],
      "execution_count": null,
      "outputs": [
        {
          "output_type": "display_data",
          "data": {
            "text/html": [
              "<iframe src=\"https://docs.python.org/3/tutorial/modules.html\" height=\"600\" width=\"900\" title=\"Librosa\"></iframe>"
            ],
            "text/plain": [
              "<IPython.core.display.HTML object>"
            ]
          },
          "metadata": {}
        }
      ]
    },
    {
      "cell_type": "markdown",
      "metadata": {
        "id": "QqjNuXbjWQd8"
      },
      "source": [
        "```python\n",
        "import IPython.display as ipd\n",
        "```"
      ]
    },
    {
      "cell_type": "code",
      "metadata": {
        "id": "B0BWnf-8WUoM"
      },
      "source": [
        "import IPython.display as ipd\n",
        "ipd??"
      ],
      "execution_count": null,
      "outputs": []
    },
    {
      "cell_type": "code",
      "source": [
        "#@title\n",
        "%%html\n",
        "<iframe width=\"560\" height=\"315\" src=\"https://www.youtube.com/embed/IWvbP5xKncs?rel=0\" title=\"YouTube video player\" frameborder=\"0\" allow=\"accelerometer; autoplay; clipboard-write; encrypted-media; gyroscope; picture-in-picture\" allowfullscreen></iframe>"
      ],
      "metadata": {
        "colab": {
          "base_uri": "https://localhost:8080/",
          "height": 337
        },
        "cellView": "form",
        "id": "wsNhDgGEaPgn",
        "outputId": "0f11df84-a33c-4dc6-9a1f-af504e5255bd"
      },
      "execution_count": null,
      "outputs": [
        {
          "output_type": "display_data",
          "data": {
            "text/html": [
              "<iframe width=\"560\" height=\"315\" src=\"https://www.youtube.com/embed/IWvbP5xKncs?rel=0\" title=\"YouTube video player\" frameborder=\"0\" allow=\"accelerometer; autoplay; clipboard-write; encrypted-media; gyroscope; picture-in-picture\" allowfullscreen></iframe>"
            ],
            "text/plain": [
              "<IPython.core.display.HTML object>"
            ]
          },
          "metadata": {}
        }
      ]
    },
    {
      "cell_type": "code",
      "metadata": {
        "id": "34a4dz_5WtEu",
        "cellView": "form",
        "colab": {
          "base_uri": "https://localhost:8080/",
          "height": 645
        },
        "outputId": "fca1a635-92e3-4290-e63b-a3ed78ca8da8"
      },
      "source": [
        "#@title\n",
        "%%html\n",
        "<iframe src=\"https://ipython.readthedocs.io/en/stable/\" height=\"600\" width=\"900\" title=\"IPython\"></iframe>\n",
        "\n"
      ],
      "execution_count": null,
      "outputs": [
        {
          "output_type": "display_data",
          "data": {
            "text/html": [
              "<iframe src=\"https://ipython.readthedocs.io/en/stable/\" height=\"600\" width=\"900\" title=\"IPython\"></iframe>\n"
            ],
            "text/plain": [
              "<IPython.core.display.HTML object>"
            ]
          },
          "metadata": {}
        }
      ]
    },
    {
      "cell_type": "code",
      "metadata": {
        "id": "NhqJM6VEW1hb",
        "cellView": "form",
        "colab": {
          "base_uri": "https://localhost:8080/",
          "height": 645
        },
        "outputId": "dd67c240-0c2e-4793-af10-8d3e4e493f95"
      },
      "source": [
        "#@title\n",
        "%%html\n",
        "<iframe src=\"https://ipython.readthedocs.io/en/stable/api/generated/IPython.display.html?highlight=display\" height=\"600\" width=\"900\" title=\"IPython Display\"></iframe>\n",
        "\n"
      ],
      "execution_count": null,
      "outputs": [
        {
          "output_type": "display_data",
          "data": {
            "text/html": [
              "<iframe src=\"https://ipython.readthedocs.io/en/stable/api/generated/IPython.display.html?highlight=display\" height=\"600\" width=\"900\" title=\"IPython Display\"></iframe>\n"
            ],
            "text/plain": [
              "<IPython.core.display.HTML object>"
            ]
          },
          "metadata": {}
        }
      ]
    },
    {
      "cell_type": "markdown",
      "metadata": {
        "id": "c7hB15SpELZW"
      },
      "source": [
        "### Variables and Functions"
      ]
    },
    {
      "cell_type": "code",
      "source": [
        "#@title\n",
        "%%html\n",
        "<iframe width=\"560\" height=\"315\" src=\"https://www.youtube.com/embed/NsX90uzCugg?rel=0\" title=\"YouTube video player\" frameborder=\"0\" allow=\"accelerometer; autoplay; clipboard-write; encrypted-media; gyroscope; picture-in-picture\" allowfullscreen></iframe>"
      ],
      "metadata": {
        "cellView": "form",
        "colab": {
          "base_uri": "https://localhost:8080/",
          "height": 337
        },
        "id": "sqCHlx0Hafg3",
        "outputId": "a55b3be8-2aad-4e12-b41f-9a458878c15a"
      },
      "execution_count": null,
      "outputs": [
        {
          "output_type": "display_data",
          "data": {
            "text/html": [
              "<iframe width=\"560\" height=\"315\" src=\"https://www.youtube.com/embed/NsX90uzCugg?rel=0\" title=\"YouTube video player\" frameborder=\"0\" allow=\"accelerometer; autoplay; clipboard-write; encrypted-media; gyroscope; picture-in-picture\" allowfullscreen></iframe>"
            ],
            "text/plain": [
              "<IPython.core.display.HTML object>"
            ]
          },
          "metadata": {}
        }
      ]
    },
    {
      "cell_type": "markdown",
      "metadata": {
        "id": "JsS6yQ-WEP7i"
      },
      "source": [
        "```python \n",
        "audio_data, sample_rate = librosa.load(\"tone440_48k.wav\", sr=None)\n",
        "```"
      ]
    },
    {
      "cell_type": "markdown",
      "metadata": {
        "id": "4HMoq3qRMZfg"
      },
      "source": [
        "In short:  \n",
        "\n",
        "*   Variable: Memory location to store data. Label to assign a value to it\n",
        "*   Function: A block of code that performs something.\n",
        "\n"
      ]
    },
    {
      "cell_type": "code",
      "metadata": {
        "id": "6wPX0eQTC9Iw",
        "cellView": "form",
        "colab": {
          "base_uri": "https://localhost:8080/",
          "height": 645
        },
        "outputId": "39348e51-343d-41fc-91d9-6b256a0c5615"
      },
      "source": [
        "#@title\n",
        "%%html\n",
        "<iframe src=\"https://python-textbok.readthedocs.io/en/1.0/Variables_and_Scope.html\" height=\"600\" width=\"900\" title=\"Variables\"></iframe>\n"
      ],
      "execution_count": null,
      "outputs": [
        {
          "output_type": "display_data",
          "data": {
            "text/html": [
              "<iframe src=\"https://python-textbok.readthedocs.io/en/1.0/Variables_and_Scope.html\" height=\"600\" width=\"900\" title=\"Variables\"></iframe>"
            ],
            "text/plain": [
              "<IPython.core.display.HTML object>"
            ]
          },
          "metadata": {}
        }
      ]
    },
    {
      "cell_type": "code",
      "metadata": {
        "id": "-ok1GzJ9Pf4u",
        "cellView": "form",
        "colab": {
          "base_uri": "https://localhost:8080/",
          "height": 645
        },
        "outputId": "3d550ccf-43d2-4519-ec0f-cd96561a6c0b"
      },
      "source": [
        "#@title\n",
        "%%html\n",
        "<iframe src=\"https://docs.python.org/3.10/tutorial/controlflow.html#defining-functions\" height=\"600\" width=\"900\" title=\"Functions\"></iframe>\n",
        "\n"
      ],
      "execution_count": null,
      "outputs": [
        {
          "output_type": "display_data",
          "data": {
            "text/html": [
              "<iframe src=\"https://docs.python.org/3.10/tutorial/controlflow.html#defining-functions\" height=\"600\" width=\"900\" title=\"Functions\"></iframe>\n"
            ],
            "text/plain": [
              "<IPython.core.display.HTML object>"
            ]
          },
          "metadata": {}
        }
      ]
    },
    {
      "cell_type": "markdown",
      "metadata": {
        "id": "tI7imeUJLqZl"
      },
      "source": [
        "### Function and Variable Names\n",
        "\n",
        "Function names should be lowercase, with words separated by underscores as necessary to improve readability.\n",
        "\n",
        "Variable names follow the same convention as function names.\n",
        "\n",
        "mixedCase is allowed only in contexts where that's already the prevailing style (e.g. threading.py), to retain backwards compatibility.\n",
        "\n",
        "Source: https://www.python.org/dev/peps/pep-0008/#function-and-variable-names"
      ]
    },
    {
      "cell_type": "markdown",
      "metadata": {
        "id": "AxmngIWFQPmH"
      },
      "source": [
        "#### Example"
      ]
    },
    {
      "cell_type": "code",
      "metadata": {
        "id": "UB2s1TAiLkXm"
      },
      "source": [
        "librosa.load??"
      ],
      "execution_count": null,
      "outputs": []
    },
    {
      "cell_type": "markdown",
      "metadata": {
        "id": "CnEXkZ8VnPTD"
      },
      "source": [
        "#### Function to Calculate the Sampling Period from the Sampling Rate"
      ]
    },
    {
      "cell_type": "code",
      "metadata": {
        "id": "o_A_hC_gNazf"
      },
      "source": [
        "def calc_T(sampling_rate):\n",
        "  \"\"\"\n",
        "  A Function to calculate the sampling period 'T' given the sampling frequency 'sampinlg_rate'.\n",
        "\n",
        "  Parameters:\n",
        "  -----------\n",
        "  sampling_rate : int\n",
        "                  The Sampling Rate to be used.\n",
        "\n",
        "  Returns:\n",
        "  --------\n",
        "  sampling_period : float\n",
        "                    The Sampling Period of the used Sampling Rate\n",
        "\n",
        "  Examples:\n",
        "  ---------\n",
        "  >>> calc_T(48000)\n",
        "  2.0833333333333333e-05\n",
        "  \"\"\"\n",
        "  return 1/sampling_rate\n"
      ],
      "execution_count": null,
      "outputs": []
    },
    {
      "cell_type": "code",
      "metadata": {
        "id": "odXj1BPUogwT",
        "colab": {
          "base_uri": "https://localhost:8080/"
        },
        "outputId": "7446daa7-802b-4c74-caa7-7240ff1cae8b"
      },
      "source": [
        "sampling_period = calc_T(16000)\n",
        "sampling_period\n",
        "\n"
      ],
      "execution_count": null,
      "outputs": [
        {
          "output_type": "execute_result",
          "data": {
            "text/plain": [
              "float"
            ]
          },
          "metadata": {},
          "execution_count": 38
        }
      ]
    },
    {
      "cell_type": "markdown",
      "metadata": {
        "id": "B86kZgUowaZ2"
      },
      "source": [
        "### Numbers and Strings"
      ]
    },
    {
      "cell_type": "code",
      "source": [
        "#@title\n",
        "%%html\n",
        "<iframe width=\"560\" height=\"315\" src=\"https://www.youtube.com/embed/Q_S41k9bUlI?rel=0\" title=\"YouTube video player\" frameborder=\"0\" allow=\"accelerometer; autoplay; clipboard-write; encrypted-media; gyroscope; picture-in-picture\" allowfullscreen></iframe>"
      ],
      "metadata": {
        "cellView": "form",
        "colab": {
          "base_uri": "https://localhost:8080/",
          "height": 337
        },
        "id": "0NUZcqMdaojm",
        "outputId": "e1f0df41-cddd-4afd-a1ed-6e21d53a5ccf"
      },
      "execution_count": null,
      "outputs": [
        {
          "output_type": "display_data",
          "data": {
            "text/html": [
              "<iframe width=\"560\" height=\"315\" src=\"https://www.youtube.com/embed/Q_S41k9bUlI?rel=0\" title=\"YouTube video player\" frameborder=\"0\" allow=\"accelerometer; autoplay; clipboard-write; encrypted-media; gyroscope; picture-in-picture\" allowfullscreen></iframe>"
            ],
            "text/plain": [
              "<IPython.core.display.HTML object>"
            ]
          },
          "metadata": {}
        }
      ]
    },
    {
      "cell_type": "markdown",
      "metadata": {
        "id": "9bwrsH9RwyPl"
      },
      "source": [
        "```python\n",
        "print(\"Sampling Rate:\", sample_rate)\n",
        "```"
      ]
    },
    {
      "cell_type": "code",
      "metadata": {
        "id": "EHRE8PIfoidC",
        "cellView": "form",
        "colab": {
          "base_uri": "https://localhost:8080/",
          "height": 645
        },
        "outputId": "4504fffc-d907-410f-eb6e-f491caaeea0d"
      },
      "source": [
        "#@title\n",
        "%%html\n",
        "<iframe src=\"https://docs.python.org/3.10/tutorial/introduction.html#using-python-as-a-calculator\" height=\"600\" width=\"900\" title=\"Numbers and Strings\"></iframe>"
      ],
      "execution_count": null,
      "outputs": [
        {
          "output_type": "display_data",
          "data": {
            "text/html": [
              "<iframe src=\"https://docs.python.org/3.10/tutorial/introduction.html#using-python-as-a-calculator\" height=\"600\" width=\"900\" title=\"Numbers and Strings\"></iframe>"
            ],
            "text/plain": [
              "<IPython.core.display.HTML object>"
            ]
          },
          "metadata": {}
        }
      ]
    },
    {
      "cell_type": "code",
      "metadata": {
        "id": "ZIBEg4ozyI2E",
        "cellView": "form",
        "colab": {
          "base_uri": "https://localhost:8080/",
          "height": 645
        },
        "outputId": "61aea466-c276-4472-f7a9-7baec50e8f03"
      },
      "source": [
        "#@title\n",
        "%%html\n",
        "<iframe src=\"https://docs.python.org/3.10/library/stdtypes.html#typesnumeric\" height=\"600\" width=\"900\" title=\"Numberic Types\"></iframe>\n"
      ],
      "execution_count": null,
      "outputs": [
        {
          "output_type": "display_data",
          "data": {
            "text/html": [
              "<iframe src=\"https://docs.python.org/3.10/library/stdtypes.html#typesnumeric\" height=\"600\" width=\"900\" title=\"Numberic Types\"></iframe>"
            ],
            "text/plain": [
              "<IPython.core.display.HTML object>"
            ]
          },
          "metadata": {}
        }
      ]
    },
    {
      "cell_type": "code",
      "metadata": {
        "id": "pbJ3BahwwhH2",
        "colab": {
          "base_uri": "https://localhost:8080/"
        },
        "outputId": "8a10e60d-ff2b-4441-8c1a-ddb566d79037"
      },
      "source": [
        "sample_rate=48000\n",
        "type(sample_rate)"
      ],
      "execution_count": null,
      "outputs": [
        {
          "output_type": "execute_result",
          "data": {
            "text/plain": [
              "float"
            ]
          },
          "metadata": {},
          "execution_count": 40
        }
      ]
    },
    {
      "cell_type": "code",
      "metadata": {
        "id": "zS8E2SS4xFwE"
      },
      "source": [
        "# Type:  function returns the type of the specified object\n",
        "type??"
      ],
      "execution_count": null,
      "outputs": []
    },
    {
      "cell_type": "code",
      "metadata": {
        "id": "bPjp2HrLxHLK",
        "colab": {
          "base_uri": "https://localhost:8080/"
        },
        "outputId": "ade053d4-3eda-4e11-96ba-e0a933264805"
      },
      "source": [
        "type(\"Sampling Rate:\")"
      ],
      "execution_count": null,
      "outputs": [
        {
          "output_type": "execute_result",
          "data": {
            "text/plain": [
              "str"
            ]
          },
          "metadata": {},
          "execution_count": 42
        }
      ]
    },
    {
      "cell_type": "code",
      "metadata": {
        "id": "yQarhfJQxmwi",
        "colab": {
          "base_uri": "https://localhost:8080/"
        },
        "outputId": "bc8f7c36-e358-4b4b-bbf5-08f571e19682"
      },
      "source": [
        "type(str)"
      ],
      "execution_count": null,
      "outputs": [
        {
          "output_type": "execute_result",
          "data": {
            "text/plain": [
              "type"
            ]
          },
          "metadata": {},
          "execution_count": 43
        }
      ]
    },
    {
      "cell_type": "code",
      "source": [
        "print(\"Hello \\nWorld\")"
      ],
      "metadata": {
        "colab": {
          "base_uri": "https://localhost:8080/"
        },
        "id": "YNuyPSeN2hMn",
        "outputId": "ab909779-725a-4694-83b9-3c3d6932cde0"
      },
      "execution_count": null,
      "outputs": [
        {
          "output_type": "stream",
          "name": "stdout",
          "text": [
            "Hello \n",
            "World\n"
          ]
        }
      ]
    },
    {
      "cell_type": "code",
      "metadata": {
        "id": "8bpYr5SgyhJx",
        "cellView": "form",
        "colab": {
          "base_uri": "https://localhost:8080/",
          "height": 645
        },
        "outputId": "d02cac12-b7ed-44f7-e55e-b7aef7ccd273"
      },
      "source": [
        "#@title\n",
        "%%html\n",
        "<iframe src=\"https://docs.python.org/3.10/library/stdtypes.html#text-sequence-type-str\" height=\"600\" width=\"900\" title=\"Strings\"></iframe>"
      ],
      "execution_count": null,
      "outputs": [
        {
          "output_type": "display_data",
          "data": {
            "text/html": [
              "<iframe src=\"https://docs.python.org/3.10/library/stdtypes.html#text-sequence-type-str\" height=\"600\" width=\"900\" title=\"Strings\"></iframe>"
            ],
            "text/plain": [
              "<IPython.core.display.HTML object>"
            ]
          },
          "metadata": {}
        }
      ]
    },
    {
      "cell_type": "markdown",
      "metadata": {
        "id": "d4Jv2oZo1yf3"
      },
      "source": [
        "### The print() Function"
      ]
    },
    {
      "cell_type": "code",
      "source": [
        "#@title\n",
        "%%html\n",
        "<iframe width=\"560\" height=\"315\" src=\"https://www.youtube.com/embed/IBJiOwqVr5M?rel=0\" title=\"YouTube video player\" frameborder=\"0\" allow=\"accelerometer; autoplay; clipboard-write; encrypted-media; gyroscope; picture-in-picture\" allowfullscreen></iframe>"
      ],
      "metadata": {
        "colab": {
          "base_uri": "https://localhost:8080/",
          "height": 337
        },
        "cellView": "form",
        "id": "NIt4mAkOa8oH",
        "outputId": "395da71d-d46a-46b5-c135-d4f0c1d802b0"
      },
      "execution_count": null,
      "outputs": [
        {
          "output_type": "display_data",
          "data": {
            "text/html": [
              "<iframe width=\"560\" height=\"315\" src=\"https://www.youtube.com/embed/IBJiOwqVr5M?rel=0\" title=\"YouTube video player\" frameborder=\"0\" allow=\"accelerometer; autoplay; clipboard-write; encrypted-media; gyroscope; picture-in-picture\" allowfullscreen></iframe>"
            ],
            "text/plain": [
              "<IPython.core.display.HTML object>"
            ]
          },
          "metadata": {}
        }
      ]
    },
    {
      "cell_type": "code",
      "metadata": {
        "id": "pZrazmoNy47I"
      },
      "source": [
        "print??"
      ],
      "execution_count": null,
      "outputs": []
    },
    {
      "cell_type": "code",
      "metadata": {
        "id": "7KAP9IWG114z",
        "cellView": "form",
        "colab": {
          "base_uri": "https://localhost:8080/",
          "height": 645
        },
        "outputId": "e034aed5-7770-4a7c-aacc-a1d58ba68c72"
      },
      "source": [
        "#@title\n",
        "%%html\n",
        "<iframe src=\"https://cs.stanford.edu/people/nick/py/python-print.html\" height=\"600\" width=\"900\" title=\"Print\"></iframe>\n"
      ],
      "execution_count": null,
      "outputs": [
        {
          "output_type": "display_data",
          "data": {
            "text/html": [
              "<iframe src=\"https://cs.stanford.edu/people/nick/py/python-print.html\" height=\"600\" width=\"900\" title=\"Print\"></iframe>"
            ],
            "text/plain": [
              "<IPython.core.display.HTML object>"
            ]
          },
          "metadata": {}
        }
      ]
    },
    {
      "cell_type": "code",
      "source": [
        "#@title\n",
        "%%html\n",
        "<iframe width=\"560\" height=\"315\" src=\"https://www.youtube.com/embed/E-GEXGhopeM?rel=0\" title=\"YouTube video player\" frameborder=\"0\" allow=\"accelerometer; autoplay; clipboard-write; encrypted-media; gyroscope; picture-in-picture\" allowfullscreen></iframe>"
      ],
      "metadata": {
        "colab": {
          "base_uri": "https://localhost:8080/",
          "height": 337
        },
        "cellView": "form",
        "id": "4pRFwb2qbZF_",
        "outputId": "0f9b5634-e9fb-4860-a206-b0ecafc6fb14"
      },
      "execution_count": null,
      "outputs": [
        {
          "output_type": "display_data",
          "data": {
            "text/html": [
              "<iframe width=\"560\" height=\"315\" src=\"https://www.youtube.com/embed/E-GEXGhopeM?rel=0\" title=\"YouTube video player\" frameborder=\"0\" allow=\"accelerometer; autoplay; clipboard-write; encrypted-media; gyroscope; picture-in-picture\" allowfullscreen></iframe>"
            ],
            "text/plain": [
              "<IPython.core.display.HTML object>"
            ]
          },
          "metadata": {}
        }
      ]
    },
    {
      "cell_type": "markdown",
      "source": [
        "```python\n",
        "ipd.Audio(audio_data, rate=sample_rate)\n",
        "```"
      ],
      "metadata": {
        "id": "oRpcfqFKbsY3"
      }
    }
  ]
}